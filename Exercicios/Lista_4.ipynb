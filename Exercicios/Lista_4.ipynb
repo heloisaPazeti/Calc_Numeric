{
 "cells": [
  {
   "cell_type": "markdown",
   "metadata": {},
   "source": [
    "# Lista 4"
   ]
  },
  {
   "cell_type": "code",
   "execution_count": 23,
   "metadata": {},
   "outputs": [],
   "source": [
    "import numpy as np\n",
    "import scipy as scp\n",
    "import time"
   ]
  },
  {
   "cell_type": "markdown",
   "metadata": {},
   "source": [
    "## Exercício 1"
   ]
  },
  {
   "cell_type": "markdown",
   "metadata": {},
   "source": [
    "Implementar método Francis. Utilizar matrizes simétricas com dimensões $n=10, 100, 500, 1000$."
   ]
  },
  {
   "cell_type": "code",
   "execution_count": 19,
   "metadata": {},
   "outputs": [],
   "source": [
    "def FrancisMethod(n, Max_It, Tol):\n",
    "    \n",
    "    # Definir matriz randomica de dimensão n\n",
    "    # Transformar em Simetrica\n",
    "    k = 0\n",
    "    E = 0\n",
    "    V = np.identity(n)\n",
    "    A = np.zeros(shape=(n,n))\n",
    "    for x in range (n):\n",
    "        for y in range (n):\n",
    "            A[x,y]=A[y,x]= np.random.randint(0,100)\n",
    "            if (x!=y and abs(A[x][y]>E)):\n",
    "                E = abs(A[x][y])\n",
    "\n",
    "    #print(\"Matriz Original: \",A, \"\\n\")\n",
    "\n",
    "    while(E >= Tol and k < Max_It):              # Enquanto E > TOL e k < MAX_IT\n",
    "        Q, R = scp.linalg.qr(A)                      # A0 = Calcular Fatoração = QR\n",
    "        A = R@Q                                  # Definir A1 = RQ\n",
    "        V = V@Q \n",
    "\n",
    "        for i in range(n):\n",
    "            for j in range(n):\n",
    "                if(i!=j and abs(A[i][j])>E):\n",
    "                    E = abs(A[i][j])\n",
    "        k += 1 \n",
    "\n",
    "    return A"
   ]
  },
  {
   "cell_type": "code",
   "execution_count": 22,
   "metadata": {},
   "outputs": [
    {
     "name": "stdout",
     "output_type": "stream",
     "text": [
      "[[141.19957   0.       -0.     ]\n",
      " [  0.      -38.49066  -0.98548]\n",
      " [  0.       -0.98548  38.29109]]\n"
     ]
    }
   ],
   "source": [
    "A = FrancisMethod(3, 10**3, 10**-8)\n",
    "A = np.matrix.round(A,5)\n",
    "print(A)\n"
   ]
  },
  {
   "cell_type": "code",
   "execution_count": 24,
   "metadata": {},
   "outputs": [
    {
     "name": "stdout",
     "output_type": "stream",
     "text": [
      "[0.13162541389465332, 36.770567178726196, 218.19347715377808, 790.9987678527832]\n"
     ]
    }
   ],
   "source": [
    "N = [10, 100, 500, 1000]\n",
    "max_it = 10**3\n",
    "tol = 10**-8\n",
    "temp = []\n",
    "\n",
    "for i in N:\n",
    "    t = time.time()\n",
    "    FrancisMethod(i, max_it, tol)\n",
    "    temp.append(time.time() - t)\n",
    "\n",
    "\n",
    "print(temp)"
   ]
  }
 ],
 "metadata": {
  "kernelspec": {
   "display_name": "Python 3",
   "language": "python",
   "name": "python3"
  },
  "language_info": {
   "codemirror_mode": {
    "name": "ipython",
    "version": 3
   },
   "file_extension": ".py",
   "mimetype": "text/x-python",
   "name": "python",
   "nbconvert_exporter": "python",
   "pygments_lexer": "ipython3",
   "version": "3.12.3"
  }
 },
 "nbformat": 4,
 "nbformat_minor": 2
}
