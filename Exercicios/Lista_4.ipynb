{
 "cells": [
  {
   "cell_type": "markdown",
   "metadata": {},
   "source": [
    "# Lista 4"
   ]
  },
  {
   "cell_type": "code",
   "execution_count": 1,
   "metadata": {},
   "outputs": [],
   "source": [
    "import numpy as np"
   ]
  },
  {
   "cell_type": "markdown",
   "metadata": {},
   "source": [
    "## Exercício 1"
   ]
  },
  {
   "cell_type": "markdown",
   "metadata": {},
   "source": [
    "Implementar método Francis. Utilizar matrizes simétricas com dimensões $n=10, 100, 500, 1000$."
   ]
  },
  {
   "cell_type": "code",
   "execution_count": null,
   "metadata": {},
   "outputs": [],
   "source": [
    "def FrancisMethod(n, Max_It, Tol):\n",
    "    \n",
    "    # Definir matriz randomica de dimensão n\n",
    "    # Transformar em Simetrica\n",
    "    k = 1\n",
    "    E = 0\n",
    "    A = np.zeros(shape=(n,n))\n",
    "    for i in range (n):\n",
    "        for j in range (n):\n",
    "            A[i,j]=A[j,i]= np.random.randint(0,100)\n",
    "    return A\n",
    "\n",
    "    while(E > Tol and k < Max_It):              # Enquanto E > TOL e k < MAX_IT\n",
    "        Q, R = np.linalg.qr(A)                      # A0 = Calcular Fatoração = QR\n",
    "        A1 = R*Q                                   # Definir A1 = RQ\n",
    "        #V1 = V \n",
    "        \n",
    "\n",
    "    \n",
    "        \n",
    "        \n",
    "        # V1 = fatoração\n",
    "        # calcular E = det (Ak)\n",
    "\n",
    "    return E"
   ]
  }
 ],
 "metadata": {
  "kernelspec": {
   "display_name": "Python 3",
   "language": "python",
   "name": "python3"
  },
  "language_info": {
   "codemirror_mode": {
    "name": "ipython",
    "version": 3
   },
   "file_extension": ".py",
   "mimetype": "text/x-python",
   "name": "python",
   "nbconvert_exporter": "python",
   "pygments_lexer": "ipython3",
   "version": "3.12.3"
  }
 },
 "nbformat": 4,
 "nbformat_minor": 2
}
