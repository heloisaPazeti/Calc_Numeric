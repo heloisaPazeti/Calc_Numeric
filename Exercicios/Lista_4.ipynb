{
 "cells": [
  {
   "cell_type": "markdown",
   "metadata": {},
   "source": [
    "# Lista 4"
   ]
  },
  {
   "cell_type": "code",
   "execution_count": 1,
   "metadata": {},
   "outputs": [],
   "source": [
    "import numpy as np\n",
    "import scipy as scp\n",
    "import matplotlib.pyplot as plt\n",
    "import time"
   ]
  },
  {
   "cell_type": "markdown",
   "metadata": {},
   "source": [
    "## Exercício 1"
   ]
  },
  {
   "cell_type": "markdown",
   "metadata": {},
   "source": [
    "Implementar método Francis. Utilizar matrizes simétricas com dimensões $n=10, 100, 500, 1000$."
   ]
  },
  {
   "cell_type": "code",
   "execution_count": 14,
   "metadata": {},
   "outputs": [],
   "source": [
    "def FrancisMethod(n, Max_It, Tol):\n",
    "    \n",
    "    # Definir matriz randomica de dimensão n\n",
    "    # Transformar em Simetrica\n",
    "    k = 0\n",
    "    E = 0\n",
    "    V = np.identity(n)\n",
    "    A = np.zeros(shape=(n,n))\n",
    "    for x in range (n):\n",
    "        for y in range (n):\n",
    "            A[x,y]=A[y,x]= np.random.randint(0,100)\n",
    "            if (x!=y and abs(A[x][y]>E)):\n",
    "                E = abs(A[x][y])\n",
    "\n",
    "    #print(\"Matriz Original: \",A, \"\\n\")\n",
    "\n",
    "    while(E >= Tol and k < Max_It):              # Enquanto E > TOL e k < MAX_IT\n",
    "        Q, R = scp.linalg.qr(A)                      # A0 = Calcular Fatoração = QR\n",
    "        A = R@Q                                  # Definir A1 = RQ\n",
    "        V = V@Q \n",
    "\n",
    "        for i in range(n):\n",
    "            for j in range(n):\n",
    "                if(i!=j and abs(A[i][j])>E):\n",
    "                    E = abs(A[i][j])\n",
    "        k += 1 \n",
    "\n",
    "    return A"
   ]
  },
  {
   "cell_type": "code",
   "execution_count": 15,
   "metadata": {},
   "outputs": [
    {
     "data": {
      "text/plain": [
       "[<matplotlib.lines.Line2D at 0x7fcee1fd6fc0>]"
      ]
     },
     "execution_count": 15,
     "metadata": {},
     "output_type": "execute_result"
    },
    {
     "data": {
      "image/png": "[encoded data removed]",
      "text/plain": [
       "<Figure size 640x480 with 1 Axes>"
      ]
     },
     "metadata": {},
     "output_type": "display_data"
    }
   ],
   "source": [
    "N = [10, 100, 500, 1000]\n",
    "max_it = 10**3\n",
    "tol = 10**-8\n",
    "timeList = []\n",
    "\n",
    "for i in N:\n",
    "    t = time.time()\n",
    "    FrancisMethod(i, max_it, tol)\n",
    "    timeList.append(time.time() - t)\n",
    "\n",
    "\n",
    "#print(temp)\n",
    "plt.plot(N, timeList)"
   ]
  },
  {
   "cell_type": "markdown",
   "metadata": {},
   "source": [
    "## Exercício 2"
   ]
  },
  {
   "cell_type": "markdown",
   "metadata": {},
   "source": [
    "Implementar uma função que cria uma matriz cheia de dimensão $n$ e com $n$ autovalores.\n",
    "\n",
    "#### Solução\n",
    "\n",
    "Criar uma matriz diagonal $D_{n\\times n}$ com os autovalores passados $\\lambda_1, \\lambda_2, ..., \\lambda_n$. Utilizamos essa matriz para encontrar seus autovetores de forma a construir a matriz $M_{n\\times n}$. Utilizando o teorema da Diagonalização ($D = M^{-1}AM$) e Semelhança de Matrizes ($\\det A = \\det D$), podemos dizer que $A = MDM^{-1}$, sendo $A_{n\\times n}$ uma matriz semelhante a $D$, assim tendo os mesmos autovalores de $D$."
   ]
  },
  {
   "cell_type": "code",
   "execution_count": 14,
   "metadata": {},
   "outputs": [],
   "source": [
    "# DIAGONALIZAÇÃO - https://www.ufrgs.br/reamat/AlgebraLinear/livro/s11-diagonalizax00e7x00e3o.html\n",
    "# SEMELHANÇA - https://pt.wikipedia.org/wiki/Matrizes_semelhantes\n",
    "\n",
    "def CriaMatriz(n, autovalues):\n",
    "    \n",
    "    D = np.zeros(shape=(n,n))\n",
    "    M = scp.stats.ortho_group.rvs(n)                          # Matriz de Autovalores\n",
    "\n",
    "    if(len(autovalues) != n):\n",
    "        return D\n",
    "    \n",
    "    for i in range(n):                              # Criar matriz diagonal (D) com autovalores\n",
    "        D[i][i] = autovalues[i]\n",
    "\n",
    "    A = M @ D @ np.linalg.inv(M)                    # Encontrar Matriz Semelhante A = MDM^{-1}\n",
    "\n",
    "    return A"
   ]
  },
  {
   "cell_type": "code",
   "execution_count": 15,
   "metadata": {},
   "outputs": [
    {
     "name": "stdout",
     "output_type": "stream",
     "text": [
      "MATRIZ DE ORGIGEM: \n",
      " [[ 5.6  0.8 -0.2  1.  -0.2 -0.  -2.1 -0.   0.8  0.1]\n",
      " [ 0.8  5.2 -1.9 -0.1 -1.9  0.2 -0.3  0.3  0.8  0.2]\n",
      " [-0.2 -1.9  6.8 -1.1  0.1 -0.1  0.1  1.  -1.4 -1. ]\n",
      " [ 1.  -0.1 -1.1  6.6 -0.8 -0.1  0.1  0.9 -0.7  0.8]\n",
      " [-0.2 -1.9  0.1 -0.8  4.4  0.8 -0.5 -0.4  1.6  0.1]\n",
      " [-0.   0.2 -0.1 -0.1  0.8  5.3  1.3  0.4  0.7  0.6]\n",
      " [-2.1 -0.3  0.1  0.1 -0.5  1.3  7.7 -0.8  0.1  0.5]\n",
      " [-0.   0.3  1.   0.9 -0.4  0.4 -0.8  5.   2.   0.7]\n",
      " [ 0.8  0.8 -1.4 -0.7  1.6  0.7  0.1  2.   5.   0.5]\n",
      " [ 0.1  0.2 -1.   0.8  0.1  0.6  0.5  0.7  0.5  3.5]]\n",
      "\n",
      "Utilizando função requisitada: \n",
      " [ 1.  2.  3.  4.  5.  6.  7.  8.  9. 10.]\n"
     ]
    }
   ],
   "source": [
    "n = 10\n",
    "lambdas = [1, 2, 3, 4, 5, 6, 7, 8, 9, 10]\n",
    "\n",
    "A = CriaMatriz(n, lambdas)\n",
    "print(\"MATRIZ DE ORGIGEM: \\n\", np.round(A, 1))\n",
    "\n",
    "autovalores, v = scp.linalg.eigh(A)\n",
    "print(\"\\nUtilizando função requisitada: \\n\", autovalores)\n"
   ]
  },
  {
   "cell_type": "markdown",
   "metadata": {},
   "source": [
    "## Exercício 3"
   ]
  },
  {
   "cell_type": "markdown",
   "metadata": {},
   "source": [
    "Mostrar que o exercício 2 é solução do problema 1."
   ]
  },
  {
   "cell_type": "code",
   "execution_count": null,
   "metadata": {},
   "outputs": [],
   "source": []
  },
  {
   "cell_type": "markdown",
   "metadata": {},
   "source": [
    "## Exercício 4"
   ]
  },
  {
   "cell_type": "markdown",
   "metadata": {},
   "source": [
    "Calcular o coeficiente $c_k$ e $\\phi_k$ a partide uma condição inicial de posição $U_0$ e de uma velocidade inicial $V_0$.\n",
    "\n",
    "\n",
    "$$\\begin{}w(x,y,0)=u_0(x,y)$$"
   ]
  },
  {
   "cell_type": "code",
   "execution_count": 16,
   "metadata": {},
   "outputs": [],
   "source": [
    "def ij2n (i, j, N):\n",
    "    return i + j*N"
   ]
  },
  {
   "cell_type": "code",
   "execution_count": 17,
   "metadata": {},
   "outputs": [],
   "source": [
    "def BuildMatrizesEigen(N1, N2, sigma, rho, e, delta):\n",
    "    nunk = N1*N2\n",
    "\n",
    "    # Stiffness matrix K: Build it as a sparse matrix\n",
    "    d1 = 4.0*np.ones(nunk)\n",
    "    d2 = -np.ones(nunk-1)\n",
    "    d3 = -np.ones(nunk-N1)\n",
    "    K = (sigma/delta**2)*scp.sparse.diags([d3, d2, d1, d2, d3],\n",
    "    [-N1, -1, 0, 1, N1], format='csr')\n",
    "    \n",
    "    # Force the eigenvalues associated to boundary points\n",
    "    # to be a big number as compared to fundamental modes\n",
    "    big_number = 10000\n",
    "    Iden = big_number*scp.sparse.identity(nunk, format='csr')\n",
    "                                          \n",
    "    # Lados verticais\n",
    "    for k in range(0,N2):\n",
    "        Ic = ij2n(0,k,N1) # Left\n",
    "        K[Ic,:], K[:,Ic] = Iden[Ic,:], Iden[:,Ic]\n",
    "        Ic = ij2n(N1-1,k,N1) # Right\n",
    "        K[Ic,:], K[:,Ic] = Iden[Ic,:], Iden[:,Ic]\n",
    "\n",
    "    # Lados horizontais\n",
    "    for k in range(0,N1):\n",
    "        Ic = ij2n(k,0,N1) # Bottom\n",
    "        K[Ic,:], K[:,Ic] = Iden[Ic,:], Iden[:,Ic]\n",
    "        Ic = ij2n(k,N2-1,N1) # Top\n",
    "        K[Ic,:], K[:,Ic] = Iden[Ic,:], Iden[:,Ic]\n",
    "\n",
    "    # Mass matrix: Simple case, multiple of identity\n",
    "    M = rho*e*scp.sparse.identity(nunk, format='csr')\n",
    "\n",
    "    return K, M"
   ]
  },
  {
   "cell_type": "code",
   "execution_count": null,
   "metadata": {},
   "outputs": [],
   "source": []
  }
 ],
 "metadata": {
  "kernelspec": {
   "display_name": "Python 3",
   "language": "python",
   "name": "python3"
  },
  "language_info": {
   "codemirror_mode": {
    "name": "ipython",
    "version": 3
   },
   "file_extension": ".py",
   "mimetype": "text/x-python",
   "name": "python",
   "nbconvert_exporter": "python",
   "pygments_lexer": "ipython3",
   "version": "3.12.3"
  }
 },
 "nbformat": 4,
 "nbformat_minor": 2
}
