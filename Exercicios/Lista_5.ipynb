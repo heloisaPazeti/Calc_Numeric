{
 "cells": [
  {
   "cell_type": "markdown",
   "metadata": {},
   "source": [
    "# List 5"
   ]
  },
  {
   "cell_type": "code",
   "execution_count": 37,
   "metadata": {},
   "outputs": [],
   "source": [
    "import numpy as np\n",
    "import scipy as scp\n",
    "import matplotlib.pyplot as plt\n",
    "import time\n",
    "from scipy.interpolate import interp1d"
   ]
  },
  {
   "cell_type": "markdown",
   "metadata": {},
   "source": [
    "## Exercício 1"
   ]
  },
  {
   "cell_type": "markdown",
   "metadata": {},
   "source": [
    "Considerar o problema de interpolação com polinômios de grau 𝑛 = 2, que passam por 𝑛+1 = 3 pontos {(𝑥0, 𝑦0), (𝑥1, 𝑦1), (𝑥2, 𝑦2)}, usando as funções 𝜙𝑖(𝑥), 𝑖 = 0, 1, 2: \n",
    "\n",
    "$$\\begin{cases}\\phi_0(x) = \\frac{(x-x_1)(x-x_2)}{(x_0-x_1)(x_0-x_2)}\\\\\n",
    "               \\phi_1(x) = \\frac{(x-x_0)(x-x_2)}{(x_1-x_0)(x_1-x_2)}\\\\\n",
    "               \\phi_2(x) = \\frac{(x-x_0)(x-x_1)}{(x_2-x_0)(x_2-x_1)}\n",
    "\\end{cases}$$\n",
    "\n",
    "Encontrar os coeficientes do polinômio: \n",
    "\n",
    "$$p(x) = \\sum²_{i=0}c_1 \\phi_i (x)$$\n",
    "\n",
    "E dar a solução do mesmo. Qual seria a vantagem de usar este tipo de base de funções (polinômios de Lagrange) para o espaço dos polinômios.\n"
   ]
  },
  {
   "cell_type": "code",
   "execution_count": 32,
   "metadata": {},
   "outputs": [],
   "source": [
    "def CalcPhi(x, listX):\n",
    "    phi_0 = ((x-listX[1])*(x-listX[2]))/((listX[0]-listX[1])*(listX[0]-listX[2]))\n",
    "    phi_1 = ((x-listX[0])*(x-listX[2]))/((listX[1]-listX[0])*(listX[1]-listX[2]))\n",
    "    phi_2 = ((x-listX[0])*(x-listX[1]))/((listX[2]-listX[0])*(listX[2]-listX[1]))\n",
    "\n",
    "    return phi_0, phi_1, phi_2"
   ]
  },
  {
   "cell_type": "code",
   "execution_count": 33,
   "metadata": {},
   "outputs": [],
   "source": [
    "def Interpol_1(x, y):\n",
    "    x0 = CalcPhi(x[0], x)\n",
    "    x1 = CalcPhi(x[1], x)\n",
    "    x2 = CalcPhi(x[2], x)\n",
    "\n",
    "    A = np.matrix([[x0[0], x0[1], x0[2]], [x1[0], x1[1], x1[2]], [x2[0], x2[1], x2[2]]])\n",
    "    C = np.linalg.solve(A, y)\n",
    "\n",
    "    return C"
   ]
  },
  {
   "cell_type": "code",
   "execution_count": 34,
   "metadata": {},
   "outputs": [],
   "source": [
    "def Solution(x, listPhi, C, size):\n",
    "     \n",
    "    v = 0\n",
    "\n",
    "    for i in range(size):\n",
    "        v += C[i]*listPhi[i]\n",
    "\n",
    "    return v"
   ]
  },
  {
   "cell_type": "code",
   "execution_count": 35,
   "metadata": {},
   "outputs": [
    {
     "name": "stdout",
     "output_type": "stream",
     "text": [
      "[14. 24. 25.]\n"
     ]
    }
   ],
   "source": [
    "# CALCULO DOS COEFICIENTES\n",
    "\n",
    "pontosX = [2, 6, 4]         # x0, x1, x2\n",
    "pontosY = [14, 24, 25]      # y0, y1, y2\n",
    "\n",
    "C = Interpol_1(pontosX, pontosY)\n",
    "print(C)"
   ]
  },
  {
   "cell_type": "code",
   "execution_count": 36,
   "metadata": {},
   "outputs": [
    {
     "name": "stdout",
     "output_type": "stream",
     "text": [
      "14.0\n"
     ]
    }
   ],
   "source": [
    "# ENCONTRANDO SOLUÇÃO\n",
    "\n",
    "x = 2                   # Número qualquer\n",
    "size = len(pontosX)     # Não especificado\n",
    "\n",
    "listPhi = CalcPhi(x, pontosX)\n",
    "V = Solution(x, listPhi, C, size)\n",
    "print(V)"
   ]
  },
  {
   "cell_type": "markdown",
   "metadata": {},
   "source": [
    "## Exercício 2"
   ]
  },
  {
   "cell_type": "markdown",
   "metadata": {},
   "source": [
    "Modificar o exemplo fornecido e calcular o polinomio cúbico por partes para a função de Runge 𝑅(𝑥). Considerar outros conjuntos de pontos, inclusive conjuntos que não estejam uniformemente distribuídos no intervalo de interesse."
   ]
  },
  {
   "cell_type": "code",
   "execution_count": 61,
   "metadata": {},
   "outputs": [],
   "source": [
    "def R(x):\n",
    "    return 1.0/(1.0 + 25.0*x**2)\n",
    "\n",
    "def CalculateAndPlot(boundarie, pointsX, pointsY, type):\n",
    "    # Define a set of points to evaluate the functions\n",
    "    xeval = np.linspace(-boundarie, boundarie, 40000)\n",
    "    yeval = R(xeval)\n",
    "\n",
    "    # Compute the piecewise liner polynomial\n",
    "    ylin = interp1d(pointsX, pointsY, kind=type)\n",
    "\n",
    "    # Plot everything\n",
    "    plt.plot(pointsX, pointsY, 'ob',\n",
    "    xeval, yeval, '-r',\n",
    "    xeval, ylin(xeval), '-g')"
   ]
  },
  {
   "cell_type": "code",
   "execution_count": 65,
   "metadata": {},
   "outputs": [
    {
     "data": {
      "image/png": "[encoded data removed]",
      "text/plain": [
       "<Figure size 640x480 with 1 Axes>"
      ]
     },
     "metadata": {},
     "output_type": "display_data"
    }
   ],
   "source": [
    "# EXEMPLO ORIGINAL\n",
    "\n",
    "x1 = np.array([-5, -4, -3, -2, -1.5, -1, -0.5, 0, 0.5, 1, 2, 3, 4, 5])\n",
    "y1 = R(x1)\n",
    "\n",
    "# OUTRO EXEMPLO\n",
    "\n",
    "x2 = np.array([-10, -8, -6, -4, -2, 0, 2, 4, 6, 8, 10])\n",
    "y2 = R(x2)\n",
    "\n",
    "# PLOTAGEM\n",
    "\n",
    "#CalculateAndPlot(5, x1, y1, 'linear')\n",
    "#CalculateAndPlot(10, x2, y2, 'linear')\n",
    "CalculateAndPlot(10, x2, y2, 'cubic')"
   ]
  },
  {
   "cell_type": "markdown",
   "metadata": {},
   "source": [
    "## Exercício 3"
   ]
  },
  {
   "cell_type": "markdown",
   "metadata": {},
   "source": []
  },
  {
   "cell_type": "code",
   "execution_count": null,
   "metadata": {},
   "outputs": [],
   "source": []
  },
  {
   "cell_type": "markdown",
   "metadata": {},
   "source": [
    "## Exercício 4"
   ]
  },
  {
   "cell_type": "markdown",
   "metadata": {},
   "source": [
    "## Exercício 5"
   ]
  }
 ],
 "metadata": {
  "kernelspec": {
   "display_name": "Python 3",
   "language": "python",
   "name": "python3"
  },
  "language_info": {
   "codemirror_mode": {
    "name": "ipython",
    "version": 3
   },
   "file_extension": ".py",
   "mimetype": "text/x-python",
   "name": "python",
   "nbconvert_exporter": "python",
   "pygments_lexer": "ipython3",
   "version": "3.12.3"
  }
 },
 "nbformat": 4,
 "nbformat_minor": 2
}
