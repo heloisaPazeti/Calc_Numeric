{
 "cells": [
  {
   "cell_type": "markdown",
   "id": "d486f30a-5e39-4e4a-bf73-f92b017bf5f3",
   "metadata": {},
   "source": [
    "# AULA I"
   ]
  },
  {
   "cell_type": "markdown",
   "id": "deee7d9a-4f47-479c-94d0-12aa2a297aa0",
   "metadata": {},
   "source": [
    "## Definição de variáveis, vetores e matrizes"
   ]
  },
  {
   "cell_type": "markdown",
   "id": "c362fcbe-dacd-4225-ac93-fafa0b63e63b",
   "metadata": {
    "jp-MarkdownHeadingCollapsed": true
   },
   "source": [
    "### Variáveis"
   ]
  },
  {
   "cell_type": "code",
   "execution_count": 4,
   "id": "e118d39d-813a-42a7-8486-d50397cfb9da",
   "metadata": {},
   "outputs": [
    {
     "name": "stdout",
     "output_type": "stream",
     "text": [
      "1.0 \n",
      "\n"
     ]
    }
   ],
   "source": [
    "import numpy as np\n",
    "\n",
    "a = 1.0\n",
    "print(a, '\\n')"
   ]
  },
  {
   "cell_type": "markdown",
   "id": "89130bde-1b8f-4c1e-b182-d1dac32e8101",
   "metadata": {
    "jp-MarkdownHeadingCollapsed": true
   },
   "source": [
    "### Vetores"
   ]
  },
  {
   "cell_type": "code",
   "execution_count": 5,
   "id": "6cee8c31-806e-4a6e-aed9-7105bc9ecf32",
   "metadata": {},
   "outputs": [
    {
     "name": "stdout",
     "output_type": "stream",
     "text": [
      "Acessando todo o vetor: [1 2 3 4] \n",
      "\n",
      "Acessando uma componente do array: 3 \n",
      "\n"
     ]
    }
   ],
   "source": [
    "b = np.array([1, 2, 3, 4])\n",
    "print(\"Acessando todo o vetor:\", b, '\\n')\n",
    "\n",
    "print(\"Acessando uma componente do array:\", b[2], '\\n')"
   ]
  },
  {
   "cell_type": "markdown",
   "id": "63437481-6d7b-419b-ba8e-91514a4523cc",
   "metadata": {},
   "source": [
    "### Matrizes"
   ]
  },
  {
   "cell_type": "code",
   "execution_count": 6,
   "id": "790fef10-6e32-4a18-8498-32c7f73a579c",
   "metadata": {},
   "outputs": [
    {
     "name": "stdout",
     "output_type": "stream",
     "text": [
      "Acessando toda a matriz: \n",
      " [[ 1.  2.  3.]\n",
      " [ 4.  5.  6.]\n",
      " [ 7.  8.  9.]\n",
      " [10. 11. 12.]] \n",
      "\n",
      "Acessando elementos: 9.0 \n",
      "\n"
     ]
    }
   ],
   "source": [
    "c = np.array([[1,2,3],[4,5,6],[7,8,9],[10,11,12]], dtype=np.float64)\n",
    "print(\"Acessando toda a matriz: \\n\",c,'\\n')\n",
    "\n",
    "print(\"Acessando elementos:\", c[2,2], '\\n')"
   ]
  },
  {
   "cell_type": "code",
   "execution_count": 7,
   "id": "dd951c84-7b06-4c20-96fa-ef8a84675a78",
   "metadata": {},
   "outputs": [
    {
     "name": "stdout",
     "output_type": "stream",
     "text": [
      "NUMERO DE LINHAS, COLUNAS (4, 3) \n",
      "\n",
      "NUMERO DE LINHAS:  4 \n",
      "\n",
      "NUMERO DE COLUNAS:  3 \n",
      "\n"
     ]
    }
   ],
   "source": [
    "# SHAPE DE UMA MATRIZ\n",
    "print(\"NUMERO DE LINHAS, COLUNAS\",c.shape, '\\n')\n",
    "print(\"NUMERO DE LINHAS: \",c.shape[0], '\\n')\n",
    "print(\"NUMERO DE COLUNAS: \", c.shape[1], '\\n')"
   ]
  },
  {
   "cell_type": "markdown",
   "id": "48c819a0-d760-4e8f-acfb-8c1f2cd44174",
   "metadata": {},
   "source": [
    "#### Matrizes Especiais"
   ]
  },
  {
   "cell_type": "code",
   "execution_count": 8,
   "id": "be8f905f-7701-4df5-880e-251c904c18f3",
   "metadata": {},
   "outputs": [
    {
     "name": "stdout",
     "output_type": "stream",
     "text": [
      "[[0. 0. 0.]\n",
      " [0. 0. 0.]\n",
      " [0. 0. 0.]\n",
      " [0. 0. 0.]\n",
      " [0. 0. 0.]] \n",
      "\n"
     ]
    }
   ],
   "source": [
    "#  MATRIZES DE ZEROS\n",
    "z = np.zeros(shape=(5,3), dtype=np.float64)\n",
    "print(z,'\\n')"
   ]
  },
  {
   "cell_type": "code",
   "execution_count": 9,
   "id": "3ff83d4e-986f-4e89-8c14-04c294f58ae0",
   "metadata": {},
   "outputs": [
    {
     "name": "stdout",
     "output_type": "stream",
     "text": [
      "[[1. 1. 1. 1. 1.]\n",
      " [1. 1. 1. 1. 1.]] \n",
      "\n"
     ]
    }
   ],
   "source": [
    "# MATRIZES DE 1\n",
    "u = np.ones(shape=(2,5), dtype=np.float64)\n",
    "print(u,'\\n')"
   ]
  },
  {
   "cell_type": "code",
   "execution_count": 10,
   "id": "fcd16894-2359-402c-be4b-9acf56811cbf",
   "metadata": {},
   "outputs": [
    {
     "name": "stdout",
     "output_type": "stream",
     "text": [
      "[[1. 0. 0. 0.]\n",
      " [0. 1. 0. 0.]\n",
      " [0. 0. 1. 0.]\n",
      " [0. 0. 0. 1.]] \n",
      "\n"
     ]
    }
   ],
   "source": [
    "# MATRIZES IDENTIDADES\n",
    "I = np.identity(4, dtype=np.float64)\n",
    "print(I,'\\n')"
   ]
  },
  {
   "cell_type": "code",
   "execution_count": 11,
   "id": "d384761f-e564-420e-9b5a-f3847d0bff14",
   "metadata": {},
   "outputs": [
    {
     "name": "stdout",
     "output_type": "stream",
     "text": [
      "[[0.67783101 0.3744773  0.07779765 0.68919426]\n",
      " [0.99464708 0.43480235 0.9577333  0.37859107]\n",
      " [0.59649101 0.68735476 0.52632903 0.68754477]] \n",
      "\n",
      "[[3.38118031 2.98682049 2.60113694 3.39595254]\n",
      " [3.7930412  3.06524306 3.74505329 2.99216839]\n",
      " [3.27543831 3.39356118 3.18422774 3.3938082 ]] \n",
      "\n",
      "[[3.38118031 2.98682049 2.60113694 3.39595254]\n",
      " [3.7930412  3.06524306 3.74505329 2.99216839]\n",
      " [3.27543831 3.39356118 3.18422774 3.3938082 ]] \n",
      "\n"
     ]
    }
   ],
   "source": [
    "# MATRIZES RANDOMICAS ENTRE (0,1)\n",
    "R = np.random.rand(3, 4)\n",
    "print(R,'\\n')\n",
    "\n",
    "# MATRIZES RANDOMICAS ENTRE (g,h)\n",
    "g = 2.5\n",
    "h = 3.8\n",
    "Q = g + (h-g)*R\n",
    "\n",
    "print(Q, '\\n')\n",
    "\n",
    "U = np.ones(shape=(3,4), dtype=np.float64)\n",
    "Q = g*U + (h-g)*R\n",
    "\n",
    "print(Q, '\\n')"
   ]
  },
  {
   "cell_type": "code",
   "execution_count": 12,
   "id": "7bab52d8-2c76-4c87-bd57-583df070e25a",
   "metadata": {},
   "outputs": [
    {
     "name": "stdout",
     "output_type": "stream",
     "text": [
      "[[5 6]\n",
      " [4 6]\n",
      " [6 4]\n",
      " [6 7]\n",
      " [4 7]\n",
      " [5 6]] \n",
      "\n"
     ]
    }
   ],
   "source": [
    "# MATRIZES RANDOMICAS INTEIROS\n",
    "\n",
    "U1 = np.random.randint(4,8, size=(6,2)) # min incluso, max exclusivo\n",
    "print(U1, '\\n')"
   ]
  },
  {
   "cell_type": "markdown",
   "id": "7d813754-4320-420a-9e4f-2e8ef8327dc7",
   "metadata": {},
   "source": [
    "## Operações Com Matrizes"
   ]
  },
  {
   "cell_type": "markdown",
   "id": "a49617b6-356c-4924-9bbb-daf937cf2a13",
   "metadata": {},
   "source": [
    "### Aplicar Uma Função Numa Matriz"
   ]
  },
  {
   "cell_type": "code",
   "execution_count": 13,
   "id": "c8c5dcf7-5a84-47c8-838c-16882cb3627b",
   "metadata": {},
   "outputs": [
    {
     "name": "stdout",
     "output_type": "stream",
     "text": [
      "[[0.54030231 0.54030231 0.54030231 0.54030231]\n",
      " [0.54030231 0.54030231 0.54030231 0.54030231]\n",
      " [0.54030231 0.54030231 0.54030231 0.54030231]] \n",
      "\n"
     ]
    }
   ],
   "source": [
    "# FUNÇÃO COSSENO\n",
    "C2=np.cos(U)\n",
    "print(C2, '\\n')"
   ]
  },
  {
   "cell_type": "code",
   "execution_count": 14,
   "id": "5d24c363-7f96-4ac9-9127-ebfbb843c444",
   "metadata": {},
   "outputs": [
    {
     "name": "stdout",
     "output_type": "stream",
     "text": [
      "[[2.71828183 1.         1.         1.        ]\n",
      " [1.         2.71828183 1.         1.        ]\n",
      " [1.         1.         2.71828183 1.        ]\n",
      " [1.         1.         1.         2.71828183]] \n",
      "\n"
     ]
    }
   ],
   "source": [
    "# FUNÇÃO EXPONENCIAL\n",
    "EI = np.exp(I)\n",
    "print(EI, '\\n')"
   ]
  },
  {
   "cell_type": "markdown",
   "id": "be0b3350-a0d2-4816-bf22-a76184575cda",
   "metadata": {},
   "source": [
    "### Slicing"
   ]
  },
  {
   "cell_type": "code",
   "execution_count": 15,
   "id": "b7a44559-d6b3-49f6-a41e-858e1b7fc425",
   "metadata": {},
   "outputs": [
    {
     "name": "stdout",
     "output_type": "stream",
     "text": [
      "[1.         2.71828183 1.         1.        ] \n",
      "\n"
     ]
    }
   ],
   "source": [
    "# CORTAR UMA LINHA DE UMA MATRIZ\n",
    "vetor1 = EI[1, :]\n",
    "print(vetor1, '\\n')"
   ]
  },
  {
   "cell_type": "code",
   "execution_count": 16,
   "id": "b58eb3d4-0c30-4eee-b95e-9b79a1fdab79",
   "metadata": {},
   "outputs": [
    {
     "name": "stdout",
     "output_type": "stream",
     "text": [
      "[1.         1.         1.         2.71828183] \n",
      "\n"
     ]
    }
   ],
   "source": [
    "# CORTAR UMA COLUNA DE UMA MATRIZ\n",
    "vetor2 = EI[:, 3]\n",
    "print(vetor2, '\\n')"
   ]
  },
  {
   "cell_type": "code",
   "execution_count": 17,
   "id": "f0323d6d-02c5-4c2f-b943-24870e5f4861",
   "metadata": {},
   "outputs": [
    {
     "name": "stdout",
     "output_type": "stream",
     "text": [
      "[1. 1.] \n",
      "\n"
     ]
    }
   ],
   "source": [
    "# CORTAR UM TRECHO\n",
    "vetor3 = EI[2:4, 1]\n",
    "print(vetor3, '\\n')"
   ]
  },
  {
   "cell_type": "code",
   "execution_count": 18,
   "id": "510b6031-c79a-4b11-988f-d063ed3c3b0b",
   "metadata": {},
   "outputs": [
    {
     "name": "stdout",
     "output_type": "stream",
     "text": [
      "[2.71828183 2.71828183 2.71828183 2.71828183] \n",
      "\n",
      "[[2.71828183 0.         0.         0.        ]\n",
      " [0.         2.71828183 0.         0.        ]\n",
      " [0.         0.         2.71828183 0.        ]\n",
      " [0.         0.         0.         2.71828183]] \n",
      "\n"
     ]
    }
   ],
   "source": [
    "# CORTAR UMA DIAGONAL\n",
    "vetor4 = np.diag(EI)\n",
    "print(vetor4, '\\n')\n",
    "\n",
    "# OBS\n",
    "newMatriz = np.diag(vetor4)\n",
    "print(newMatriz, '\\n')"
   ]
  },
  {
   "cell_type": "markdown",
   "id": "d5fa8e2d-9281-40e7-9a26-c2ce5bdf6fae",
   "metadata": {
    "jp-MarkdownHeadingCollapsed": true
   },
   "source": [
    "## Operações Entre Arrays"
   ]
  },
  {
   "cell_type": "code",
   "execution_count": 19,
   "id": "8830b30b-ca9c-45ba-a7c2-f37bd3a1f7f9",
   "metadata": {},
   "outputs": [
    {
     "name": "stdout",
     "output_type": "stream",
     "text": [
      "[1.6 2.6 3.6] \n",
      "\n"
     ]
    }
   ],
   "source": [
    "# COMBINAÇÃO LINEAR\n",
    "\n",
    "v1 = np.array([1.0, 2.0, 3.0], dtype=np.float64)\n",
    "v2 = np.array([2.0, 3.0, 4.0], dtype=np.float64)\n",
    "\n",
    "alpha = 0.4\n",
    "beta = 0.6\n",
    "\n",
    "v3 = alpha*v1 + beta*v2\n",
    "print(v3, '\\n')"
   ]
  },
  {
   "cell_type": "code",
   "execution_count": 20,
   "id": "6c12e774-6420-4e9a-bd5f-6a1634cea7c2",
   "metadata": {},
   "outputs": [
    {
     "name": "stdout",
     "output_type": "stream",
     "text": [
      "[ 2.  6. 12.] \n",
      "\n"
     ]
    }
   ],
   "source": [
    "# PRODUTO PONTO A PONTO\n",
    "\n",
    "v4 = v1 * v2\n",
    "print(v4, '\\n')"
   ]
  },
  {
   "cell_type": "code",
   "execution_count": 21,
   "id": "d30155d6-c72d-41e9-a770-660004b2ea4c",
   "metadata": {},
   "outputs": [
    {
     "name": "stdout",
     "output_type": "stream",
     "text": [
      "FUNÇÃO @:  20.0 \n",
      "\n",
      "UTILIZANDO SUM:  20.0 \n",
      "\n"
     ]
    }
   ],
   "source": [
    "# PRODUTO ESCALAR\n",
    "\n",
    "p = v1 @ v2\n",
    "print(\"FUNÇÃO @: \",p, '\\n')\n",
    "\n",
    "# O MESMO QUE\n",
    "q = np.sum(v4)\n",
    "print(\"UTILIZANDO SUM: \",q, '\\n')"
   ]
  },
  {
   "cell_type": "code",
   "execution_count": 22,
   "id": "ad95e35e-0d3a-4856-af18-b2d55ce57fde",
   "metadata": {},
   "outputs": [
    {
     "name": "stdout",
     "output_type": "stream",
     "text": [
      "[140. 320.] \n",
      "\n"
     ]
    }
   ],
   "source": [
    "# PRODUTO USUAL MATRIZ-VETOR\n",
    "\n",
    "A = np.array([[1,2,3], [4,5,6]], dtype=np.float64)\n",
    "X = np.array([10,20,30], dtype=np.float64)\n",
    "Y = A @ X\n",
    "print(Y, '\\n')"
   ]
  },
  {
   "cell_type": "markdown",
   "id": "987b3829-9ab4-4836-8637-56855084a6f7",
   "metadata": {
    "jp-MarkdownHeadingCollapsed": true
   },
   "source": [
    "## Estruturas Condicionais"
   ]
  },
  {
   "cell_type": "code",
   "execution_count": 23,
   "id": "29619ad7-3612-4958-909b-801c4017db3c",
   "metadata": {},
   "outputs": [
    {
     "name": "stdout",
     "output_type": "stream",
     "text": [
      "a > = 0.75\n"
     ]
    }
   ],
   "source": [
    "a = np.random.rand()\n",
    "if(a > 0 and a < 0.25):\n",
    "    print(\"0 < a < 0.25\")\n",
    "elif(a >= 0.25 and a < 0.75):\n",
    "    print(\"0.25 <= a < 0.75\")\n",
    "else:\n",
    "    print(\"a > = 0.75\")"
   ]
  },
  {
   "cell_type": "markdown",
   "id": "204bae35-f4ec-4a87-89a4-c8cc32a16c9d",
   "metadata": {
    "jp-MarkdownHeadingCollapsed": true
   },
   "source": [
    "## Estruturas de Repetição"
   ]
  },
  {
   "cell_type": "markdown",
   "id": "26edc79c-ee1a-491c-8927-75b5c08b4143",
   "metadata": {},
   "source": [
    "### FOR"
   ]
  },
  {
   "cell_type": "code",
   "execution_count": 24,
   "id": "1718e348-e7fc-4877-a707-f7fa4b4f8ec6",
   "metadata": {},
   "outputs": [
    {
     "name": "stdout",
     "output_type": "stream",
     "text": [
      "0\n",
      "1\n",
      "2\n",
      "3\n",
      "4\n",
      "5\n"
     ]
    }
   ],
   "source": [
    "for i in range(6):\n",
    "    print(i)"
   ]
  },
  {
   "cell_type": "code",
   "execution_count": 25,
   "id": "e3daa169-2a16-4f59-bf3a-12817a20ebad",
   "metadata": {},
   "outputs": [
    {
     "name": "stdout",
     "output_type": "stream",
     "text": [
      "3\n",
      "4\n",
      "5\n",
      "6\n",
      "7\n",
      "8\n",
      "9\n"
     ]
    }
   ],
   "source": [
    "for i in range(3,10): #min inclusivo, max exclusivo\n",
    "    print(i)"
   ]
  },
  {
   "cell_type": "code",
   "execution_count": 26,
   "id": "3d6c530b-5788-4375-b2cd-246d2e93a98c",
   "metadata": {},
   "outputs": [
    {
     "name": "stdout",
     "output_type": "stream",
     "text": [
      "4\n",
      "7\n",
      "10\n"
     ]
    }
   ],
   "source": [
    "for i in range(4,12,3):\n",
    "    print(i)"
   ]
  },
  {
   "cell_type": "code",
   "execution_count": 27,
   "id": "f52e1273-58f5-49b0-bbff-2914f986ad29",
   "metadata": {},
   "outputs": [
    {
     "name": "stdout",
     "output_type": "stream",
     "text": [
      "SEM INDEX\n",
      "10.0\n",
      "20.0\n",
      "30.0\n",
      "\n",
      "COM INDEX\n",
      "index: 0 | valor:  10.0\n",
      "index: 1 | valor:  20.0\n",
      "index: 2 | valor:  30.0\n"
     ]
    }
   ],
   "source": [
    "print(\"SEM INDEX\")\n",
    "for xi in X:\n",
    "    print(xi)\n",
    "    \n",
    "print(\"\\nCOM INDEX\")\n",
    "for i,xi in enumerate(X):\n",
    "    print(\"index:\",i, \"| valor: \", xi)"
   ]
  },
  {
   "cell_type": "markdown",
   "id": "325d1a06-c30d-4e69-be2f-ba59f4994f22",
   "metadata": {},
   "source": [
    "### WHILE"
   ]
  },
  {
   "cell_type": "code",
   "execution_count": 28,
   "id": "b9069163-007b-41fd-a199-9c943b6fb616",
   "metadata": {},
   "outputs": [
    {
     "name": "stdout",
     "output_type": "stream",
     "text": [
      "0\n",
      "3\n",
      "6\n",
      "9\n"
     ]
    }
   ],
   "source": [
    "a = 0\n",
    "while(a < 10):\n",
    "    print(a)\n",
    "    a+=3"
   ]
  },
  {
   "cell_type": "markdown",
   "id": "839045af-d201-4601-af6c-9ac674a53ca3",
   "metadata": {},
   "source": [
    "## Definindo Funções"
   ]
  },
  {
   "cell_type": "code",
   "execution_count": 31,
   "id": "24e0a8ed-d68d-4894-86fc-35a7cc7536b6",
   "metadata": {},
   "outputs": [],
   "source": [
    "# FUNÇÃO PARA O PRODUTO ESCALAR DE MATRIZES\n",
    "\n",
    "import time\n",
    "\n",
    "def myFunc(A, B):\n",
    "\n",
    "    ncA, nlB = A.shape[1], B.shape[0]\n",
    "    nlA, ncB = A.shape[0], B.shape[1]\n",
    "    \n",
    "    if(ncA != nlB):\n",
    "        raise Exception('Matrizes imcompativeis')\n",
    "\n",
    "    C = np.zeros(shape=(nlA, ncB))\n",
    "\n",
    "    ti = time.time()\n",
    "\n",
    "    for i in range(nlA):\n",
    "        for j in range(ncB):\n",
    "            for k in range(ncA):\n",
    "                C[i,j] += A[i,k] * B[k,j]\n",
    "\n",
    "    totalTime = time.time() - ti\n",
    "    \n",
    "    return totalTime, C"
   ]
  },
  {
   "cell_type": "code",
   "execution_count": 35,
   "id": "03602187-3228-43ac-a76f-96e853183137",
   "metadata": {},
   "outputs": [
    {
     "name": "stdout",
     "output_type": "stream",
     "text": [
      "Tempo para função myFunc:  0.7175798416137695 \n",
      "\n",
      "Tempo para função @:  0.0 \n",
      "\n",
      "1.6970484356024933e-13\n",
      "7.105427357601002e-15\n"
     ]
    }
   ],
   "source": [
    "m = 100\n",
    "r = 50\n",
    "n = 200\n",
    "\n",
    "A = np.random.rand(m,r)\n",
    "B = np.random.rand(r,n)\n",
    "\n",
    "# CHAMANDO FUNÇÃO\n",
    "tempo, C = myFunc(A, B)\n",
    "\n",
    "print(\"Tempo para função myFunc: \", tempo, '\\n')\n",
    "\n",
    "# COMPARANDO FUNÇÕES\n",
    "ti = time.time()\n",
    "D = A @ B\n",
    "print(\"Tempo para função @: \", time.time() - ti, '\\n')\n",
    "\n",
    "dif = np.linalg.norm(D - C) # normalizado\n",
    "print(dif)\n",
    "\n",
    "print(np.max(np.abs(D - C))) #diferença max absoluta"
   ]
  },
  {
   "cell_type": "code",
   "execution_count": null,
   "id": "0fc87892-0e91-4b69-a8dd-33b27382d03b",
   "metadata": {},
   "outputs": [],
   "source": []
  }
 ],
 "metadata": {
  "kernelspec": {
   "display_name": "Python 3 (ipykernel)",
   "language": "python",
   "name": "python3"
  },
  "language_info": {
   "codemirror_mode": {
    "name": "ipython",
    "version": 3
   },
   "file_extension": ".py",
   "mimetype": "text/x-python",
   "name": "python",
   "nbconvert_exporter": "python",
   "pygments_lexer": "ipython3",
   "version": "3.12.2"
  }
 },
 "nbformat": 4,
 "nbformat_minor": 5
}
