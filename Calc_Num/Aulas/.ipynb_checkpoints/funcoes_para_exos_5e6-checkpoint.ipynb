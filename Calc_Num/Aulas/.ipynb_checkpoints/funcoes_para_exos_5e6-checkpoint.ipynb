{
 "cells": [
  {
   "cell_type": "code",
   "execution_count": 1,
   "id": "2db83b90",
   "metadata": {},
   "outputs": [],
   "source": [
    "import numpy as np\n",
    "import matplotlib.pyplot as plt"
   ]
  },
  {
   "cell_type": "code",
   "execution_count": 2,
   "id": "54e7bde8",
   "metadata": {
    "code_folding": []
   },
   "outputs": [],
   "source": [
    "def GeraRede(n,m,CH,CV):\n",
    "    nv = n*m\n",
    "    nc = (n-1)*m + (m-1)*n\n",
    "    \n",
    "    coord = np.zeros(shape=(nv,2))\n",
    "\n",
    "    for i in range(n):\n",
    "      for j in range(m):\n",
    "        ig = i + j*n\n",
    "        coord[ig,0] = i\n",
    "        coord[ig,1] = j\n",
    "\n",
    "    conec = np.zeros(shape=(nc,2), dtype=int)\n",
    "    C = np.zeros(nc)\n",
    "    \n",
    "    # Loop sobre canos horizontais\n",
    "    for j in range(m):\n",
    "        for i in range(n-1):\n",
    "          k = j*(n-1) + i\n",
    "          conec[k,0] = j*n + i\n",
    "          conec[k,1] = j*n + i+1\n",
    "          C[k] = CH\n",
    "\n",
    "    # Loop sobre canos verticais\n",
    "    for i in range(n):\n",
    "      for j in range(m-1):\n",
    "          k = (n-1)*m + j*n + i\n",
    "          conec[k,0] = i + j*n\n",
    "          conec[k,1] = i + (j+1)*n\n",
    "          C[k] = CV\n",
    "\n",
    "    return nv, nc, conec, C, coord"
   ]
  },
  {
   "cell_type": "code",
   "execution_count": 4,
   "id": "b3439bec",
   "metadata": {
    "code_folding": []
   },
   "outputs": [],
   "source": [
    "def PlotPressure(m, n, pressure):\n",
    "    x = np.arange(0, m, 1)\n",
    "    y = np.arange(0, n, 1)\n",
    "    X,Y=np.meshgrid(x,y)\n",
    "    Z = np.copy(pressure)\n",
    "    Z.shape = (n,m)\n",
    "    fig, ax = plt.subplots(figsize=(10,10))\n",
    "    ax.set_aspect('equal')\n",
    "    ax.set(xlabel='x', ylabel='y', title='Contours of pressure')\n",
    "    ax.grid()\n",
    "    ax.set_xticks(x)\n",
    "    ax.set_yticks(y)\n",
    "    cp = plt.contourf(X, Y, Z, cmap='jet')\n",
    "    cb = plt.colorbar(cp)\n",
    "    plt.show()\n",
    "\n",
    "def PlotPressureAsSurface(m, n, pressure):\n",
    "    x = np.arange(0, m, 1)\n",
    "    y = np.arange(0, n, 1)\n",
    "    X,Y=np.meshgrid(x,y)\n",
    "    Z = np.copy(pressure)\n",
    "    Z.shape = (n,m)\n",
    "    fig, ax = plt.subplots(figsize=(10,10))\n",
    "    ax.set_aspect('equal')\n",
    "    ax.set(xlabel='x', ylabel='y', title='Contours of pressure')\n",
    "    ax.grid()\n",
    "    ax.set_xticks(x)\n",
    "    ax.set_yticks(y)\n",
    "    ax = plt.axes(projection=\"3d\")\n",
    "    ax.plot_surface(X, Y, Z, cmap='jet', edgecolor=None)\n",
    "    ax.set(xlabel='$x$', ylabel='$y$', zlabel='$z$')\n",
    "    ax.view_init(elev=30., azim=45)\n",
    "    plt.show()"
   ]
  },
  {
   "cell_type": "code",
   "execution_count": 7,
   "id": "57f9c0e3",
   "metadata": {},
   "outputs": [
    {
     "name": "stdout",
     "output_type": "stream",
     "text": [
      "31 20\n",
      "[[ 0  1]\n",
      " [ 1  2]\n",
      " [ 2  3]\n",
      " [ 3  4]\n",
      " [ 5  6]\n",
      " [ 6  7]\n",
      " [ 7  8]\n",
      " [ 8  9]\n",
      " [10 11]\n",
      " [11 12]\n",
      " [12 13]\n",
      " [13 14]\n",
      " [15 16]\n",
      " [16 17]\n",
      " [17 18]\n",
      " [18 19]\n",
      " [ 0  5]\n",
      " [ 1  6]\n",
      " [ 2  7]\n",
      " [ 3  8]\n",
      " [ 4  9]\n",
      " [ 5 10]\n",
      " [ 6 11]\n",
      " [ 7 12]\n",
      " [ 8 13]\n",
      " [ 9 14]\n",
      " [10 15]\n",
      " [11 16]\n",
      " [12 17]\n",
      " [13 18]\n",
      " [14 19]]\n",
      "[1.3 1.3 1.3 1.3 1.3 1.3 1.3 1.3 1.3 1.3 1.3 1.3 1.3 1.3 1.3 1.3 3.6 3.6\n",
      " 3.6 3.6 3.6 3.6 3.6 3.6 3.6 3.6 3.6 3.6 3.6 3.6 3.6]\n"
     ]
    }
   ],
   "source": [
    "CH = 1.3\n",
    "CV = 3.6\n",
    "m, n = 5, 4\n",
    "nv, nc, conec, C, coord = GeraRede(m, n , CH, CV)\n",
    "print(nc, nv)\n",
    "print(conec)\n",
    "print(C)"
   ]
  }
 ],
 "metadata": {
  "kernelspec": {
   "display_name": "Python 3",
   "language": "python",
   "name": "python3"
  },
  "language_info": {
   "codemirror_mode": {
    "name": "ipython",
    "version": 3
   },
   "file_extension": ".py",
   "mimetype": "text/x-python",
   "name": "python",
   "nbconvert_exporter": "python",
   "pygments_lexer": "ipython3",
   "version": "3.7.3"
  },
  "latex_envs": {
   "LaTeX_envs_menu_present": true,
   "autoclose": false,
   "autocomplete": true,
   "bibliofile": "biblio.bib",
   "cite_by": "apalike",
   "current_citInitial": 1,
   "eqLabelWithNumbers": true,
   "eqNumInitial": 1,
   "hotkeys": {
    "equation": "Ctrl-E",
    "itemize": "Ctrl-I"
   },
   "labels_anchors": false,
   "latex_user_defs": false,
   "report_style_numbering": false,
   "user_envs_cfg": false
  },
  "toc": {
   "base_numbering": 1,
   "nav_menu": {},
   "number_sections": true,
   "sideBar": true,
   "skip_h1_title": false,
   "title_cell": "Table of Contents",
   "title_sidebar": "Contents",
   "toc_cell": false,
   "toc_position": {},
   "toc_section_display": true,
   "toc_window_display": false
  }
 },
 "nbformat": 4,
 "nbformat_minor": 5
}
